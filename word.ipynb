{
  "nbformat": 4,
  "nbformat_minor": 0,
  "metadata": {
    "colab": {
      "provenance": []
    },
    "kernelspec": {
      "name": "python3",
      "display_name": "Python 3"
    },
    "language_info": {
      "name": "python"
    }
  },
  "cells": [
    {
      "cell_type": "markdown",
      "source": [
        "Gráfico de media móvel – praq eu uso\n",
        "\n",
        "Raspagem de um site (url)\n",
        "- três itens a serem raspados\n",
        "\n",
        "YFinance (5 itens)\n",
        "\n",
        "PCA (principal componente analisis)\n",
        "\n",
        "Kmeans\n",
        "\n",
        "Standart Scale\n",
        "\n",
        "Métodos de tipos de dados\n",
        "\n",
        "Agrupamento\n",
        "\n",
        "Cálculo de métricas\n",
        "\n",
        "Group.by\n",
        "\n",
        ".Agg (agregate) tenho que usar no group.by porque ele serve para operações (média, mediana)\n",
        "\n",
        "Tem essa tabela aqui e baseando-se nos aspectos tais dessa tabela eu quero tais coisas (se você calcula tais coisas sem pensar nos aspectos tais)\n",
        "\n",
        "Tem essa lista aqui de alunos considerando so as meninas calcule a b c e d\n",
        "\n",
        "Describe\n",
        "\n",
        "Append\n",
        "\n",
        "If else\n",
        "\n",
        "While\n",
        "\n",
        "Mean std\n",
        "\n",
        "[[ ]] (dois colchetes) para selecionar colunas específicas de um df e retornar em um df\n",
        "\n",
        "Posso usar para plotar uma coluna específica\n",
        "\n",
        "Criei uma nova coluna com a média móvel\n",
        "\n",
        "Close: preço de fechamento daquele dia\n",
        "\n",
        "Df.agg({‘peso’: ‘median’, ‘idade’:[‘mean’, ‘std’]})\n",
        "\n",
        "Chave: dicionário\n"
      ],
      "metadata": {
        "id": "EwqpJe3bXYuL"
      }
    }
  ]
}