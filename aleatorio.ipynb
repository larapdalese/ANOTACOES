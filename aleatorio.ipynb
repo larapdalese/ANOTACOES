{
  "nbformat": 4,
  "nbformat_minor": 0,
  "metadata": {
    "colab": {
      "provenance": []
    },
    "kernelspec": {
      "name": "python3",
      "display_name": "Python 3"
    },
    "language_info": {
      "name": "python"
    }
  },
  "cells": [
    {
      "cell_type": "code",
      "execution_count": null,
      "metadata": {
        "id": "Em4IrzAqPVFJ"
      },
      "outputs": [],
      "source": []
    },
    {
      "cell_type": "markdown",
      "source": [
        "#ANOTAÇÕES ALEATÓRIAS\n",
        "para segmentação usamos:\n",
        "standard scalar (colocar tudo na mesma escala)\n",
        "\n",
        "PCA fazer uma redução de dimensionalidade (reduzir é diminuir o número de dimensões, não é selecionar)\n",
        "\n",
        "kmeans (identificar os pontos próximos uns dos outros, formando grupos nessas dimensões e assim clusterizá-los)\n",
        "\n",
        "lista.append\n",
        "\n",
        "string.split\n",
        "\n",
        "set. dicionário\n",
        "\n",
        "int float\n",
        "\n",
        "Golden Cross cruzamento ascendente das médias móveis indica que a tendência de preço de curto prazo está ficando mais forte do que a de longo prazo, sugerindo que os investidores estão comprando mais do ativo, e o preço pode continuar a subir\n",
        "\n",
        "Death Cross indica que a tendência de curto prazo está enfraquecendo em relação à de longo prazo, o preço do ativo pode continuar a cair; a correção de uma tendência de alta acabou e que o mercado pode estar entrando em uma fase de declínio ou tendência de baixa.\n"
      ],
      "metadata": {
        "id": "fmTMP3SiPWEd"
      }
    },
    {
      "cell_type": "markdown",
      "source": [
        ".append adiciona valores a uma lista"
      ],
      "metadata": {
        "id": "MeFmWDElSs4c"
      }
    },
    {
      "cell_type": "code",
      "source": [
        "# Criando uma lista de frutas\n",
        "frutas = ['maçã', 'banana', 'laranja']\n",
        "\n",
        "# Adicionando uma nova fruta com o append\n",
        "frutas.append('uva')\n",
        "\n",
        "# Mostrando a lista atualizada\n",
        "print(frutas)"
      ],
      "metadata": {
        "colab": {
          "base_uri": "https://localhost:8080/"
        },
        "id": "Hw6a6VkXSU6G",
        "outputId": "9281f01d-129e-4f1e-97bb-123308154629"
      },
      "execution_count": 1,
      "outputs": [
        {
          "output_type": "stream",
          "name": "stdout",
          "text": [
            "['maçã', 'banana', 'laranja', 'uva']\n"
          ]
        }
      ]
    },
    {
      "cell_type": "code",
      "source": [
        "# Lista vazia\n",
        "numeros = []\n",
        "\n",
        "# Adicionando números de 1 a 5 à lista\n",
        "for i in range(1, 6):\n",
        "    numeros.append(i)\n",
        "\n",
        "print(numeros)"
      ],
      "metadata": {
        "colab": {
          "base_uri": "https://localhost:8080/"
        },
        "id": "0PJmZaFZSiEz",
        "outputId": "d9829a3f-26d7-4909-ffc8-0333798bcc2d"
      },
      "execution_count": 2,
      "outputs": [
        {
          "output_type": "stream",
          "name": "stdout",
          "text": [
            "[1, 2, 3, 4, 5]\n"
          ]
        }
      ]
    },
    {
      "cell_type": "markdown",
      "source": [
        "Transformando um df em lista"
      ],
      "metadata": {
        "id": "ip9vls4zS0ZJ"
      }
    },
    {
      "cell_type": "code",
      "source": [
        "import pandas as pd\n",
        "\n",
        "# Criando um DataFrame de exemplo\n",
        "df = pd.DataFrame({\n",
        "    'Nome': ['Ana', 'Bruno', 'Carla'],\n",
        "    'Idade': [23, 35, 29],\n",
        "    'Cidade': ['São Paulo', 'Rio de Janeiro', 'Belo Horizonte']\n",
        "})\n",
        "\n",
        "# Convertendo o DataFrame em uma lista\n",
        "lista = df.values.tolist()\n",
        "\n",
        "print(lista)"
      ],
      "metadata": {
        "id": "LatrYW_JSyYN"
      },
      "execution_count": null,
      "outputs": []
    },
    {
      "cell_type": "markdown",
      "source": [
        "transformando uma lista em df"
      ],
      "metadata": {
        "id": "H_EgMDQvS8hR"
      }
    },
    {
      "cell_type": "code",
      "source": [
        "import pandas as pd\n",
        "\n",
        "# Lista de listas\n",
        "lista = [['Ana', 23, 'São Paulo'],\n",
        "         ['Bruno', 35, 'Rio de Janeiro'],\n",
        "         ['Carla', 29, 'Belo Horizonte']]\n",
        "\n",
        "# Convertendo a lista em um DataFrame\n",
        "df = pd.DataFrame(lista, columns=['Nome', 'Idade', 'Cidade'])\n",
        "\n",
        "print(df)"
      ],
      "metadata": {
        "colab": {
          "base_uri": "https://localhost:8080/"
        },
        "id": "HNFB01EPS-nU",
        "outputId": "f0c8f92c-14b7-43bc-93e8-2d60cdf56485"
      },
      "execution_count": 5,
      "outputs": [
        {
          "output_type": "stream",
          "name": "stdout",
          "text": [
            "    Nome  Idade          Cidade\n",
            "0    Ana     23       São Paulo\n",
            "1  Bruno     35  Rio de Janeiro\n",
            "2  Carla     29  Belo Horizonte\n"
          ]
        }
      ]
    },
    {
      "cell_type": "markdown",
      "source": [
        "transformando um dicionário em df"
      ],
      "metadata": {
        "id": "JaFiWG_eTpjJ"
      }
    },
    {
      "cell_type": "code",
      "source": [
        "import pandas as pd\n",
        "\n",
        "# Dicionário de listas\n",
        "dados = {\n",
        "    'Nome': ['Ana', 'Bruno', 'Carla'],\n",
        "    'Idade': [23, 35, 29],\n",
        "    'Cidade': ['São Paulo', 'Rio de Janeiro', 'Belo Horizonte']\n",
        "}\n",
        "\n",
        "# Convertendo o dicionário em um DataFrame\n",
        "df = pd.DataFrame(dados)\n",
        "\n",
        "print(df)"
      ],
      "metadata": {
        "colab": {
          "base_uri": "https://localhost:8080/"
        },
        "id": "ID65e1FLTwtY",
        "outputId": "8f8bd172-c6c1-4c66-dd87-3feb8ef5d2e1"
      },
      "execution_count": 6,
      "outputs": [
        {
          "output_type": "stream",
          "name": "stdout",
          "text": [
            "    Nome  Idade          Cidade\n",
            "0    Ana     23       São Paulo\n",
            "1  Bruno     35  Rio de Janeiro\n",
            "2  Carla     29  Belo Horizonte\n"
          ]
        }
      ]
    },
    {
      "cell_type": "markdown",
      "source": [
        "dicionário de dicionários agora"
      ],
      "metadata": {
        "id": "CkqoDHFwT7TN"
      }
    },
    {
      "cell_type": "code",
      "source": [
        "import pandas as pd\n",
        "\n",
        "# Dicionário de dicionários\n",
        "dados = {\n",
        "    0: {'Nome': 'Ana', 'Idade': 23, 'Cidade': 'São Paulo'},\n",
        "    1: {'Nome': 'Bruno', 'Idade': 35, 'Cidade': 'Rio de Janeiro'},\n",
        "    2: {'Nome': 'Carla', 'Idade': 29, 'Cidade': 'Belo Horizonte'}\n",
        "}\n",
        "\n",
        "# Convertendo o dicionário em um DataFrame\n",
        "df = pd.DataFrame.from_dict(dados, orient='index')\n",
        "\n",
        "print(df)"
      ],
      "metadata": {
        "colab": {
          "base_uri": "https://localhost:8080/"
        },
        "id": "Py8dFzgoUAKH",
        "outputId": "a385ea41-6b92-4767-f00d-163b9e524bfb"
      },
      "execution_count": 7,
      "outputs": [
        {
          "output_type": "stream",
          "name": "stdout",
          "text": [
            "    Nome  Idade          Cidade\n",
            "0    Ana     23       São Paulo\n",
            "1  Bruno     35  Rio de Janeiro\n",
            "2  Carla     29  Belo Horizonte\n"
          ]
        }
      ]
    },
    {
      "cell_type": "code",
      "source": [
        "import pandas as pd\n",
        "\n",
        "# Criando um DataFrame de exemplo\n",
        "df = pd.DataFrame({\n",
        "    'Nome': ['Ana', 'Bruno', 'Carla'],\n",
        "    'Idade': [23, 35, 29],\n",
        "    'Cidade': ['São Paulo', 'Rio de Janeiro', 'Belo Horizonte']\n",
        "})\n",
        "\n",
        "# Convertendo o DataFrame em um dicionário\n",
        "dicionario = df.to_dict(orient='list')\n",
        "\n",
        "print(dicionario)"
      ],
      "metadata": {
        "colab": {
          "base_uri": "https://localhost:8080/"
        },
        "id": "kghAbb4MUJP7",
        "outputId": "3e08ce5c-021f-4753-8f1b-8b4d625be918"
      },
      "execution_count": 8,
      "outputs": [
        {
          "output_type": "stream",
          "name": "stdout",
          "text": [
            "{'Nome': ['Ana', 'Bruno', 'Carla'], 'Idade': [23, 35, 29], 'Cidade': ['São Paulo', 'Rio de Janeiro', 'Belo Horizonte']}\n"
          ]
        }
      ]
    },
    {
      "cell_type": "code",
      "source": [
        "# Convertendo o DataFrame em um dicionário\n",
        "dicionario = df.to_dict(orient='dict')\n",
        "\n",
        "print(dicionario)"
      ],
      "metadata": {
        "colab": {
          "base_uri": "https://localhost:8080/"
        },
        "id": "aTG1FrsbURtV",
        "outputId": "9eba03bd-e71b-4db8-df2b-be2f88cd68d1"
      },
      "execution_count": 9,
      "outputs": [
        {
          "output_type": "stream",
          "name": "stdout",
          "text": [
            "{'Nome': {0: 'Ana', 1: 'Bruno', 2: 'Carla'}, 'Idade': {0: 23, 1: 35, 2: 29}, 'Cidade': {0: 'São Paulo', 1: 'Rio de Janeiro', 2: 'Belo Horizonte'}}\n"
          ]
        }
      ]
    },
    {
      "cell_type": "markdown",
      "source": [
        " #RESAMPLE\n",
        " o método resample() é utilizado para reamostrar séries temporais, permitindo que você mude a frequência dos dados temporais, agregando ou interpolando dados conforme necessário. Isso é particularmente útil quando você trabalha com dados que possuem um índice temporal (como timestamps) e deseja alterar a granularidade dos dados. Sua sintaxe básica é:"
      ],
      "metadata": {
        "id": "y-DUoDfoU_MW"
      }
    },
    {
      "cell_type": "code",
      "source": [
        "DataFrame.resample(rule, how=None, fill_value=None, label='right', closed='right')"
      ],
      "metadata": {
        "id": "UaaZ33MCVRC4"
      },
      "execution_count": null,
      "outputs": []
    },
    {
      "cell_type": "markdown",
      "source": [
        "rule: Define a nova frequência. Exemplos incluem 'D' (diário), 'M' (mensal), 'A' (anual), 'H' (horário), etc.\n",
        "how: Função de agregação a ser aplicada (por exemplo, 'mean', 'sum', 'max', etc.).\n",
        "fill_value: Preencher valores ausentes após o reamostramento.\n",
        "label: Especifica se o rótulo do novo período deve estar à esquerda ou à direita.\n",
        "closed: Especifica qual lado do intervalo é fechado.\n",
        "closed='right': Especifica qual lado do intervalo é fechado.\n",
        "\n",
        "-\n",
        "\n",
        "O intervalo é fechado à direita, o que significa que o limite superior é incluído no intervalo.\n",
        "Por exemplo, se você tem um intervalo de tempo de 2023-01-01 a 2023-01-02, e está usando closed='right', o intervalo incluirá 2023-01-02\n",
        "\n",
        "closed='left':O intervalo é fechado à esquerda, o que significa que o limite inferior é incluído no intervalo.\n",
        "Usando o mesmo exemplo, se você tem um intervalo de 2023-01-01 a 2023-01-02, e está usando closed='left', o intervalo incluirá 2023-01-01."
      ],
      "metadata": {
        "id": "bMrqLkJ0VSgg"
      }
    },
    {
      "cell_type": "code",
      "source": [
        "import pandas as pd\n",
        "\n",
        "# Criando um DataFrame com um índice de data\n",
        "data = {'data': pd.date_range(start='2023-01-01', periods=5, freq='D'),\n",
        "        'valor': [1, 2, 3, 4, 5]}\n",
        "df = pd.DataFrame(data).set_index('data')\n",
        "\n",
        "# Reamostrando com closed='right'\n",
        "resample_right = df.resample('2D', closed='right').sum()\n",
        "print(\"Closed='right':\")\n",
        "print(resample_right)\n",
        "\n",
        "# Reamostrando com closed='left'\n",
        "resample_left = df.resample('2D', closed='left').sum()\n",
        "print(\"\\nClosed='left':\")\n",
        "print(resample_left)\n"
      ],
      "metadata": {
        "colab": {
          "base_uri": "https://localhost:8080/"
        },
        "id": "QxY3bIJFV66U",
        "outputId": "2bab82dc-4544-4f39-869f-0fe30777e5a3"
      },
      "execution_count": 10,
      "outputs": [
        {
          "output_type": "stream",
          "name": "stdout",
          "text": [
            "Closed='right':\n",
            "            valor\n",
            "data             \n",
            "2022-12-30      1\n",
            "2023-01-01      5\n",
            "2023-01-03      9\n",
            "\n",
            "Closed='left':\n",
            "            valor\n",
            "data             \n",
            "2023-01-01      3\n",
            "2023-01-03      7\n",
            "2023-01-05      5\n"
          ]
        }
      ]
    }
  ]
}