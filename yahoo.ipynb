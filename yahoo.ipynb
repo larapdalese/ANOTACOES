!pip install yfinance

import yfinance as yf
import pandas as pd
import numpy as np
import seaborn as sns
import matplotlib as plt

META = yf.download('META', start="2010-01-01")
META

sns.set_theme(style='darkgrid')
sns.lineplot(data=META, x=META.index, y='Close', label='META').set(title='meta - META')

META['Close'].rolling(7).mean()

META['MA_7'] = META['Close'].rolling(7).mean()
META[['Close', 'MA_7']].plot(figsize=(20,10))

#MA=MOVING AVERAGE, MÉDIA MÓVEL
#toda vez que a média móvel de curto prazo supera positivamente a de longo prazo, é uma golden cross
#quando acontece o oposto, é death cross
#standard scalar (colocar tudo na mesma escala)
#Open: preço que aquela ação entrou naquele dia
#Close: preço de fechamento do dia
#Volume: número de ações negociadas naquele dia
#High: preço mais alto do dia
#Low: preço mais baixo daquele dia 
#Adj close: fechamento ajustado
